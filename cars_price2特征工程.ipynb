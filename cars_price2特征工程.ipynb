{
 "cells": [
  {
   "cell_type": "markdown",
   "metadata": {},
   "source": [
    "### cars_price1是处理了一些不要的特征，把一些特征做了变换比如邮编和used_time，删除了一些特征和异常值\n",
    "第一部分的时间特征直接计算了，还可分开计算月份（月份也影响买车价格，可以将其进行分桶）\n",
    "### 这一部分进行特征构造，并建立模型进行训练\n",
    "类别特征：进行特征编码（目标编码（或者聚类one-hot编码））、统计特征构造、交叉组合；embedding也是一种思路\n",
    "\n",
    "数值特征：分桶（还得进行目标编码）、加减组合、多项式组合、统计特征（平均值、总和、方差等）\n",
    "\n",
    "特征选择：filter、wrapper、Embedded（pearson、RFE（递归特征消除）、单因素分析、随机森林、xgb、lgb、线性回归、岭回归、套索回归等）\n",
    "\n",
    "归一化处理：数值归一化MinMaxScaler/StanderScaler/log1p/\n",
    "\n",
    "target:处理用对数、box-cox等（本文用box-cox）\n",
    "最新成绩MAE：540（只是按照上述思路做了特征的70%，模型参数和融合都没有做）"
   ]
  },
  {
   "cell_type": "code",
   "execution_count": 10,
   "metadata": {
    "collapsed": true
   },
   "outputs": [],
   "source": [
    "# 引入一些包，随便引入不够再加\n",
    "import pandas as pd \n",
    "import numpy as np\n",
    "%matplotlib inline\n",
    "import numpy as np \n",
    "import pandas as pd \n",
    "import matplotlib\n",
    "import matplotlib.pyplot as plt\n",
    "import seaborn as sns\n",
    "import scipy.stats as st\n",
    "import warnings\n",
    "warnings.filterwarnings('ignore')"
   ]
  },
  {
   "cell_type": "code",
   "execution_count": null,
   "metadata": {
    "collapsed": true
   },
   "outputs": [],
   "source": [
    "# 利用GPU训练：有无效果没有测试\n",
    "import os\n",
    "os.environ[\"CUDA_VISIBLE_DEVICES\"] = '1'"
   ]
  },
  {
   "cell_type": "code",
   "execution_count": 11,
   "metadata": {
    "collapsed": true
   },
   "outputs": [],
   "source": [
    "# 读入处理后的CSV文件\n",
    "path = 'I:/old_cars/EDA/'\n",
    "# Train_data = pd.read_csv(path + 'used_car_train_20200313.csv', sep=' ')\n",
    "df = pd.read_csv(path + 'pre_data.csv')"
   ]
  },
  {
   "cell_type": "code",
   "execution_count": 12,
   "metadata": {},
   "outputs": [
    {
     "data": {
      "text/html": [
       "<div>\n",
       "<style scoped>\n",
       "    .dataframe tbody tr th:only-of-type {\n",
       "        vertical-align: middle;\n",
       "    }\n",
       "\n",
       "    .dataframe tbody tr th {\n",
       "        vertical-align: top;\n",
       "    }\n",
       "\n",
       "    .dataframe thead th {\n",
       "        text-align: right;\n",
       "    }\n",
       "</style>\n",
       "<table border=\"1\" class=\"dataframe\">\n",
       "  <thead>\n",
       "    <tr style=\"text-align: right;\">\n",
       "      <th></th>\n",
       "      <th>SaleID</th>\n",
       "      <th>bodyType</th>\n",
       "      <th>brand</th>\n",
       "      <th>fuelType</th>\n",
       "      <th>gearbox</th>\n",
       "      <th>kilometer</th>\n",
       "      <th>model</th>\n",
       "      <th>notRepairedDamage</th>\n",
       "      <th>power</th>\n",
       "      <th>price</th>\n",
       "      <th>price_boxcox</th>\n",
       "      <th>v_0</th>\n",
       "      <th>v_1</th>\n",
       "      <th>v_10</th>\n",
       "      <th>v_11</th>\n",
       "      <th>v_12</th>\n",
       "      <th>v_13</th>\n",
       "      <th>v_14</th>\n",
       "      <th>v_2</th>\n",
       "      <th>v_3</th>\n",
       "      <th>v_4</th>\n",
       "      <th>v_5</th>\n",
       "      <th>v_6</th>\n",
       "      <th>v_7</th>\n",
       "      <th>v_8</th>\n",
       "      <th>v_9</th>\n",
       "      <th>city</th>\n",
       "      <th>used_time</th>\n",
       "    </tr>\n",
       "  </thead>\n",
       "  <tbody>\n",
       "    <tr>\n",
       "      <th>0</th>\n",
       "      <td>0</td>\n",
       "      <td>1.0</td>\n",
       "      <td>6</td>\n",
       "      <td>0.0</td>\n",
       "      <td>0.0</td>\n",
       "      <td>12.5</td>\n",
       "      <td>30.0</td>\n",
       "      <td>0.0</td>\n",
       "      <td>60.0</td>\n",
       "      <td>1850.0</td>\n",
       "      <td>10.400</td>\n",
       "      <td>43.34</td>\n",
       "      <td>3.967</td>\n",
       "      <td>-2.880</td>\n",
       "      <td>2.8050</td>\n",
       "      <td>-2.420</td>\n",
       "      <td>0.7954</td>\n",
       "      <td>0.9146</td>\n",
       "      <td>0.05026</td>\n",
       "      <td>2.1600</td>\n",
       "      <td>1.1440</td>\n",
       "      <td>0.2357</td>\n",
       "      <td>0.10200</td>\n",
       "      <td>0.12950</td>\n",
       "      <td>0.02281</td>\n",
       "      <td>0.097500</td>\n",
       "      <td>10</td>\n",
       "      <td>4380.1</td>\n",
       "    </tr>\n",
       "    <tr>\n",
       "      <th>1</th>\n",
       "      <td>1</td>\n",
       "      <td>2.0</td>\n",
       "      <td>1</td>\n",
       "      <td>0.0</td>\n",
       "      <td>0.0</td>\n",
       "      <td>15.0</td>\n",
       "      <td>40.0</td>\n",
       "      <td>NaN</td>\n",
       "      <td>0.0</td>\n",
       "      <td>3600.0</td>\n",
       "      <td>11.664</td>\n",
       "      <td>45.30</td>\n",
       "      <td>5.234</td>\n",
       "      <td>-4.902</td>\n",
       "      <td>2.0960</td>\n",
       "      <td>-1.030</td>\n",
       "      <td>-1.7230</td>\n",
       "      <td>0.2455</td>\n",
       "      <td>0.13800</td>\n",
       "      <td>1.3810</td>\n",
       "      <td>-1.4220</td>\n",
       "      <td>0.2650</td>\n",
       "      <td>0.12103</td>\n",
       "      <td>0.13570</td>\n",
       "      <td>0.02660</td>\n",
       "      <td>0.020580</td>\n",
       "      <td>43</td>\n",
       "      <td>4745.2</td>\n",
       "    </tr>\n",
       "    <tr>\n",
       "      <th>2</th>\n",
       "      <td>2</td>\n",
       "      <td>1.0</td>\n",
       "      <td>15</td>\n",
       "      <td>0.0</td>\n",
       "      <td>0.0</td>\n",
       "      <td>12.5</td>\n",
       "      <td>115.0</td>\n",
       "      <td>0.0</td>\n",
       "      <td>163.0</td>\n",
       "      <td>6222.0</td>\n",
       "      <td>12.760</td>\n",
       "      <td>45.97</td>\n",
       "      <td>4.824</td>\n",
       "      <td>-4.848</td>\n",
       "      <td>1.8040</td>\n",
       "      <td>1.565</td>\n",
       "      <td>-0.8325</td>\n",
       "      <td>-0.2300</td>\n",
       "      <td>1.31900</td>\n",
       "      <td>-0.9985</td>\n",
       "      <td>-0.9970</td>\n",
       "      <td>0.2515</td>\n",
       "      <td>0.11490</td>\n",
       "      <td>0.16520</td>\n",
       "      <td>0.06216</td>\n",
       "      <td>0.027070</td>\n",
       "      <td>28</td>\n",
       "      <td>4319.1</td>\n",
       "    </tr>\n",
       "    <tr>\n",
       "      <th>3</th>\n",
       "      <td>3</td>\n",
       "      <td>0.0</td>\n",
       "      <td>10</td>\n",
       "      <td>0.0</td>\n",
       "      <td>1.0</td>\n",
       "      <td>15.0</td>\n",
       "      <td>109.0</td>\n",
       "      <td>0.0</td>\n",
       "      <td>193.0</td>\n",
       "      <td>2400.0</td>\n",
       "      <td>10.880</td>\n",
       "      <td>45.70</td>\n",
       "      <td>4.492</td>\n",
       "      <td>-4.508</td>\n",
       "      <td>1.2860</td>\n",
       "      <td>-0.502</td>\n",
       "      <td>-2.4380</td>\n",
       "      <td>-0.4788</td>\n",
       "      <td>-0.05063</td>\n",
       "      <td>0.8840</td>\n",
       "      <td>-2.2290</td>\n",
       "      <td>0.2744</td>\n",
       "      <td>0.11030</td>\n",
       "      <td>0.12195</td>\n",
       "      <td>0.03340</td>\n",
       "      <td>0.000000</td>\n",
       "      <td>43</td>\n",
       "      <td>7221.0</td>\n",
       "    </tr>\n",
       "    <tr>\n",
       "      <th>4</th>\n",
       "      <td>4</td>\n",
       "      <td>1.0</td>\n",
       "      <td>5</td>\n",
       "      <td>0.0</td>\n",
       "      <td>0.0</td>\n",
       "      <td>5.0</td>\n",
       "      <td>110.0</td>\n",
       "      <td>0.0</td>\n",
       "      <td>68.0</td>\n",
       "      <td>5200.0</td>\n",
       "      <td>12.390</td>\n",
       "      <td>44.38</td>\n",
       "      <td>2.031</td>\n",
       "      <td>-1.896</td>\n",
       "      <td>0.9106</td>\n",
       "      <td>0.931</td>\n",
       "      <td>2.8340</td>\n",
       "      <td>1.9240</td>\n",
       "      <td>0.57230</td>\n",
       "      <td>-1.5710</td>\n",
       "      <td>2.2460</td>\n",
       "      <td>0.2280</td>\n",
       "      <td>0.07320</td>\n",
       "      <td>0.09186</td>\n",
       "      <td>0.07880</td>\n",
       "      <td>0.121500</td>\n",
       "      <td>69</td>\n",
       "      <td>1466.4</td>\n",
       "    </tr>\n",
       "    <tr>\n",
       "      <th>198985</th>\n",
       "      <td>199995</td>\n",
       "      <td>4.0</td>\n",
       "      <td>4</td>\n",
       "      <td>0.0</td>\n",
       "      <td>0.0</td>\n",
       "      <td>15.0</td>\n",
       "      <td>4.0</td>\n",
       "      <td>0.0</td>\n",
       "      <td>116.0</td>\n",
       "      <td>NaN</td>\n",
       "      <td>NaN</td>\n",
       "      <td>45.62</td>\n",
       "      <td>5.957</td>\n",
       "      <td>-5.977</td>\n",
       "      <td>1.3030</td>\n",
       "      <td>-1.207</td>\n",
       "      <td>-1.9810</td>\n",
       "      <td>-0.3577</td>\n",
       "      <td>-0.91850</td>\n",
       "      <td>0.7750</td>\n",
       "      <td>-2.0210</td>\n",
       "      <td>0.2847</td>\n",
       "      <td>0.13000</td>\n",
       "      <td>0.04984</td>\n",
       "      <td>0.02881</td>\n",
       "      <td>0.004616</td>\n",
       "      <td>32</td>\n",
       "      <td>7233.6</td>\n",
       "    </tr>\n",
       "    <tr>\n",
       "      <th>198986</th>\n",
       "      <td>199996</td>\n",
       "      <td>0.0</td>\n",
       "      <td>0</td>\n",
       "      <td>0.0</td>\n",
       "      <td>0.0</td>\n",
       "      <td>15.0</td>\n",
       "      <td>0.0</td>\n",
       "      <td>0.0</td>\n",
       "      <td>75.0</td>\n",
       "      <td>NaN</td>\n",
       "      <td>NaN</td>\n",
       "      <td>43.94</td>\n",
       "      <td>4.477</td>\n",
       "      <td>-3.914</td>\n",
       "      <td>1.7600</td>\n",
       "      <td>-2.076</td>\n",
       "      <td>-1.1550</td>\n",
       "      <td>0.1691</td>\n",
       "      <td>-0.84200</td>\n",
       "      <td>1.3280</td>\n",
       "      <td>-1.2930</td>\n",
       "      <td>0.2680</td>\n",
       "      <td>0.10810</td>\n",
       "      <td>0.06604</td>\n",
       "      <td>0.02547</td>\n",
       "      <td>0.025970</td>\n",
       "      <td>18</td>\n",
       "      <td>6123.4</td>\n",
       "    </tr>\n",
       "    <tr>\n",
       "      <th>198987</th>\n",
       "      <td>199997</td>\n",
       "      <td>0.0</td>\n",
       "      <td>1</td>\n",
       "      <td>1.0</td>\n",
       "      <td>1.0</td>\n",
       "      <td>15.0</td>\n",
       "      <td>49.0</td>\n",
       "      <td>0.0</td>\n",
       "      <td>224.0</td>\n",
       "      <td>NaN</td>\n",
       "      <td>NaN</td>\n",
       "      <td>46.53</td>\n",
       "      <td>4.170</td>\n",
       "      <td>-4.640</td>\n",
       "      <td>0.6550</td>\n",
       "      <td>1.138</td>\n",
       "      <td>-1.3910</td>\n",
       "      <td>0.2544</td>\n",
       "      <td>0.38870</td>\n",
       "      <td>-0.7046</td>\n",
       "      <td>-1.4800</td>\n",
       "      <td>0.2695</td>\n",
       "      <td>0.10570</td>\n",
       "      <td>0.11770</td>\n",
       "      <td>0.05746</td>\n",
       "      <td>0.015670</td>\n",
       "      <td>34</td>\n",
       "      <td>4315.9</td>\n",
       "    </tr>\n",
       "    <tr>\n",
       "      <th>198988</th>\n",
       "      <td>199998</td>\n",
       "      <td>0.0</td>\n",
       "      <td>1</td>\n",
       "      <td>0.0</td>\n",
       "      <td>1.0</td>\n",
       "      <td>15.0</td>\n",
       "      <td>27.0</td>\n",
       "      <td>0.0</td>\n",
       "      <td>334.0</td>\n",
       "      <td>NaN</td>\n",
       "      <td>NaN</td>\n",
       "      <td>46.78</td>\n",
       "      <td>-3.297</td>\n",
       "      <td>1.834</td>\n",
       "      <td>-2.8280</td>\n",
       "      <td>2.465</td>\n",
       "      <td>-0.9116</td>\n",
       "      <td>-2.0570</td>\n",
       "      <td>0.24350</td>\n",
       "      <td>-1.2770</td>\n",
       "      <td>-0.4048</td>\n",
       "      <td>0.2612</td>\n",
       "      <td>0.00049</td>\n",
       "      <td>0.13730</td>\n",
       "      <td>0.08624</td>\n",
       "      <td>0.051400</td>\n",
       "      <td>19</td>\n",
       "      <td>5122.0</td>\n",
       "    </tr>\n",
       "    <tr>\n",
       "      <th>198989</th>\n",
       "      <td>199999</td>\n",
       "      <td>1.0</td>\n",
       "      <td>6</td>\n",
       "      <td>NaN</td>\n",
       "      <td>1.0</td>\n",
       "      <td>9.0</td>\n",
       "      <td>166.0</td>\n",
       "      <td>0.0</td>\n",
       "      <td>68.0</td>\n",
       "      <td>NaN</td>\n",
       "      <td>NaN</td>\n",
       "      <td>43.72</td>\n",
       "      <td>-3.121</td>\n",
       "      <td>2.914</td>\n",
       "      <td>-1.1360</td>\n",
       "      <td>0.548</td>\n",
       "      <td>2.0940</td>\n",
       "      <td>-1.5520</td>\n",
       "      <td>0.02734</td>\n",
       "      <td>-0.8090</td>\n",
       "      <td>2.1170</td>\n",
       "      <td>0.2288</td>\n",
       "      <td>0.00030</td>\n",
       "      <td>0.10350</td>\n",
       "      <td>0.08060</td>\n",
       "      <td>0.124270</td>\n",
       "      <td>32</td>\n",
       "      <td>4295.2</td>\n",
       "    </tr>\n",
       "  </tbody>\n",
       "</table>\n",
       "</div>"
      ],
      "text/plain": [
       "        SaleID  bodyType  brand  fuelType  gearbox  kilometer  model  \\\n",
       "0            0       1.0      6       0.0      0.0       12.5   30.0   \n",
       "1            1       2.0      1       0.0      0.0       15.0   40.0   \n",
       "2            2       1.0     15       0.0      0.0       12.5  115.0   \n",
       "3            3       0.0     10       0.0      1.0       15.0  109.0   \n",
       "4            4       1.0      5       0.0      0.0        5.0  110.0   \n",
       "198985  199995       4.0      4       0.0      0.0       15.0    4.0   \n",
       "198986  199996       0.0      0       0.0      0.0       15.0    0.0   \n",
       "198987  199997       0.0      1       1.0      1.0       15.0   49.0   \n",
       "198988  199998       0.0      1       0.0      1.0       15.0   27.0   \n",
       "198989  199999       1.0      6       NaN      1.0        9.0  166.0   \n",
       "\n",
       "        notRepairedDamage  power   price  price_boxcox    v_0    v_1   v_10  \\\n",
       "0                     0.0   60.0  1850.0        10.400  43.34  3.967 -2.880   \n",
       "1                     NaN    0.0  3600.0        11.664  45.30  5.234 -4.902   \n",
       "2                     0.0  163.0  6222.0        12.760  45.97  4.824 -4.848   \n",
       "3                     0.0  193.0  2400.0        10.880  45.70  4.492 -4.508   \n",
       "4                     0.0   68.0  5200.0        12.390  44.38  2.031 -1.896   \n",
       "198985                0.0  116.0     NaN           NaN  45.62  5.957 -5.977   \n",
       "198986                0.0   75.0     NaN           NaN  43.94  4.477 -3.914   \n",
       "198987                0.0  224.0     NaN           NaN  46.53  4.170 -4.640   \n",
       "198988                0.0  334.0     NaN           NaN  46.78 -3.297  1.834   \n",
       "198989                0.0   68.0     NaN           NaN  43.72 -3.121  2.914   \n",
       "\n",
       "          v_11   v_12    v_13    v_14      v_2     v_3     v_4     v_5  \\\n",
       "0       2.8050 -2.420  0.7954  0.9146  0.05026  2.1600  1.1440  0.2357   \n",
       "1       2.0960 -1.030 -1.7230  0.2455  0.13800  1.3810 -1.4220  0.2650   \n",
       "2       1.8040  1.565 -0.8325 -0.2300  1.31900 -0.9985 -0.9970  0.2515   \n",
       "3       1.2860 -0.502 -2.4380 -0.4788 -0.05063  0.8840 -2.2290  0.2744   \n",
       "4       0.9106  0.931  2.8340  1.9240  0.57230 -1.5710  2.2460  0.2280   \n",
       "198985  1.3030 -1.207 -1.9810 -0.3577 -0.91850  0.7750 -2.0210  0.2847   \n",
       "198986  1.7600 -2.076 -1.1550  0.1691 -0.84200  1.3280 -1.2930  0.2680   \n",
       "198987  0.6550  1.138 -1.3910  0.2544  0.38870 -0.7046 -1.4800  0.2695   \n",
       "198988 -2.8280  2.465 -0.9116 -2.0570  0.24350 -1.2770 -0.4048  0.2612   \n",
       "198989 -1.1360  0.548  2.0940 -1.5520  0.02734 -0.8090  2.1170  0.2288   \n",
       "\n",
       "            v_6      v_7      v_8       v_9  city  used_time  \n",
       "0       0.10200  0.12950  0.02281  0.097500    10     4380.1  \n",
       "1       0.12103  0.13570  0.02660  0.020580    43     4745.2  \n",
       "2       0.11490  0.16520  0.06216  0.027070    28     4319.1  \n",
       "3       0.11030  0.12195  0.03340  0.000000    43     7221.0  \n",
       "4       0.07320  0.09186  0.07880  0.121500    69     1466.4  \n",
       "198985  0.13000  0.04984  0.02881  0.004616    32     7233.6  \n",
       "198986  0.10810  0.06604  0.02547  0.025970    18     6123.4  \n",
       "198987  0.10570  0.11770  0.05746  0.015670    34     4315.9  \n",
       "198988  0.00049  0.13730  0.08624  0.051400    19     5122.0  \n",
       "198989  0.00030  0.10350  0.08060  0.124270    32     4295.2  "
      ]
     },
     "execution_count": 12,
     "metadata": {},
     "output_type": "execute_result"
    }
   ],
   "source": [
    "#显示所有列\n",
    "pd.set_option('display.max_columns', None)\n",
    "#显示所有行\n",
    "pd.set_option('display.max_rows', None)\n",
    "#设置value的显示长度为100，默认为50\n",
    "pd.set_option('max_colwidth',100)\n",
    "df.head().append(df.tail())"
   ]
  },
  {
   "cell_type": "markdown",
   "metadata": {},
   "source": [
    "（v1、6、10）（v4、9、13）（v2、5、7）（v3、8）\n",
    "\n",
    "由于v1与v6相关性0.999，故删去v1；\n",
    "由于v4与v9相关性0.963，故删去v4；\n",
    "由于v2与v7先关心0.974，故删去v7；\n",
    "\n"
   ]
  },
  {
   "cell_type": "code",
   "execution_count": null,
   "metadata": {
    "collapsed": true
   },
   "outputs": [],
   "source": [
    "df.drop(['v_1','v_4','v_7'], axis=1, inplace=True)"
   ]
  },
  {
   "cell_type": "code",
   "execution_count": 14,
   "metadata": {},
   "outputs": [
    {
     "name": "stdout",
     "output_type": "stream",
     "text": [
      "(198990, 28) Index(['SaleID', 'bodyType', 'brand', 'fuelType', 'gearbox', 'kilometer',\n",
      "       'model', 'notRepairedDamage', 'power', 'price', 'price_boxcox', 'v_0',\n",
      "       'v_1', 'v_10', 'v_11', 'v_12', 'v_13', 'v_14', 'v_2', 'v_3', 'v_4',\n",
      "       'v_5', 'v_6', 'v_7', 'v_8', 'v_9', 'city', 'used_time'],\n",
      "      dtype='object')\n"
     ]
    }
   ],
   "source": [
    "print(df.shape, df.columns)"
   ]
  },
  {
   "cell_type": "code",
   "execution_count": 18,
   "metadata": {
    "collapsed": true
   },
   "outputs": [],
   "source": [
    "train = df[~df['price'].isnull()].reset_index(drop=True)\n",
    "test = df[df['price'].isnull()].reset_index(drop=True)"
   ]
  },
  {
   "cell_type": "markdown",
   "metadata": {},
   "source": [
    "min、max、mean\n",
    "等距分桶\n",
    "\n",
    "power:【0, 600, 116】分桶10个：bins = [i*60 for i in range(11)]\n",
    "\n",
    "kilometer：【0.5, 15, 12.6】   bins = [i*1.5 for i in range(11)]\n",
    "\n",
    "used_time：【24.5， 9137.3， 4572.3】  bins = [i*920 for i in range(11)]"
   ]
  },
  {
   "cell_type": "code",
   "execution_count": null,
   "metadata": {
    "collapsed": true
   },
   "outputs": [],
   "source": [
    "# 数据分桶 以 power 为例\n",
    "# 这时候我们的缺失值也进桶了，\n",
    "# 为什么要做数据分桶呢，原因有很多，= =\n",
    "# 1. 离散后稀疏向量内积乘法运算速度更快，计算结果也方便存储，容易扩展；\n",
    "# 2. 离散后的特征对异常值更具鲁棒性，如 age>30 为 1 否则为 0，对于年龄为 200 的也不会对模型造成很大的干扰；\n",
    "# 3. LR 属于广义线性模型，表达能力有限，经过离散化后，每个变量有单独的权重，这相当于引入了非线性，能够提升模型的表达能力，加大拟合；\n",
    "# 4. 离散后特征可以进行特征交叉，提升表达能力，由 M+N 个变量编程 M*N 个变量，进一步引入非线形，提升了表达能力；\n",
    "# 5. 特征离散后模型更稳定，如用户年龄区间，不会因为用户年龄长了一岁就变化\n",
    "\n",
    "# 当然还有很多原因，LightGBM 在改进 XGBoost 时就增加了数据分桶，增强了模型的泛化性\n",
    "bin_col = []\n",
    "bin_fea = ['power','kilometer','used_time']\n",
    "sc = [60,1.5,920]\n",
    "for j in range(3):\n",
    "    bin = [i*sc[j] for i in range(11)]\n",
    "    df[bin_fea[j] + '_bin'] = pd.cut(df[bin_fea[j]], bin, labels=False)\n",
    "    bin_col.append(bin_fea[j] + '_bin')\n",
    "# 匿名特征也进行分桶，增加特征数量（不确定有没有用，先不做尝试）"
   ]
  },
  {
   "cell_type": "code",
   "execution_count": null,
   "metadata": {
    "collapsed": true
   },
   "outputs": [],
   "source": [
    "# 查看分桶效果\n",
    "df[['power_bin','kilometer_bin', 'used_time_bin']].head()"
   ]
  },
  {
   "cell_type": "code",
   "execution_count": null,
   "metadata": {
    "collapsed": true
   },
   "outputs": [],
   "source": [
    "# 查看特征列，以防上面出错\n",
    "df.columns"
   ]
  },
  {
   "cell_type": "code",
   "execution_count": null,
   "metadata": {
    "collapsed": true
   },
   "outputs": [],
   "source": [
    "cate_fea = ['bodyType','brand','fuelType','gearbox','model','notRepairedDamage','power_bin','kilometer_bin', 'used_time_bin']"
   ]
  },
  {
   "cell_type": "markdown",
   "metadata": {},
   "source": [
    "## 类别特征的目标编码"
   ]
  },
  {
   "cell_type": "code",
   "execution_count": null,
   "metadata": {
    "collapsed": true
   },
   "outputs": [],
   "source": [
    "from sklearn.model_selection import KFold\n",
    "from tqdm import tqdm\n",
    "\n",
    "train_df = df[~df['price'].isnull()].reset_index(drop=True)\n",
    "test_df = df[df['price'].isnull()].reset_index(drop=True)\n",
    "\n",
    "\n",
    "### target encoding目标编码，回归场景相对来说做目标编码的选择更多，不仅可以做均值编码，还可以做标准差编码、中位数编码等\n",
    "enc_cols = []\n",
    "stats_default_dict = {\n",
    "    'max': train_df['price'].max(),\n",
    "    'min': train_df['price'].min(),\n",
    "    'median': train_df['price'].median(),\n",
    "    'mean': train_df['price'].mean(),\n",
    "    'sum': train_df['price'].sum(),\n",
    "    'std': train_df['price'].std(),\n",
    "    'skew': train_df['price'].skew(),\n",
    "    'kurt': train_df['price'].kurt(),\n",
    "    'mad': train_df['price'].mad()\n",
    "}\n",
    "### 暂且选择这几种编码（可以选择完）\n",
    "enc_stats = ['max','min','mean','median','sum','std','mad','skew','kurt']\n",
    "skf = KFold(n_splits=5, shuffle=True, random_state=2020)\n",
    "# 遍历类别特征（加上分桶的）\n",
    "for f in tqdm(cate_fea):\n",
    "    enc_dict = {}\n",
    "    for stat in enc_stats:\n",
    "        enc_dict['{}_target_{}'.format(f, stat)] = stat\n",
    "        train_df['{}_target_{}'.format(f, stat)] = 0\n",
    "        test_df['{}_target_{}'.format(f, stat)] = 0\n",
    "        enc_cols.append('{}_target_{}'.format(f, stat))\n",
    "    # skf.split()返回索引的迭代器        \n",
    "    for i, (trn_idx, val_idx) in enumerate(skf.split(train_df, train_df['price'])):\n",
    "        trn_x, val_x = train_df.iloc[trn_idx].reset_index(drop=True), train_df.iloc[val_idx].reset_index(drop=True)\n",
    "        enc_df = trn_x.groupby(f, as_index=False)['price'].agg(enc_dict)\n",
    "        val_x = val_x[[f]].merge(enc_df, on=f, how='left')\n",
    "        test_x = test_df[[f]].merge(enc_df, on=f, how='left')\n",
    "        for stat in enc_stats:\n",
    "            val_x['{}_target_{}'.format(f, stat)] = val_x['{}_target_{}'.format(f, stat)].fillna(stats_default_dict[stat])\n",
    "            test_x['{}_target_{}'.format(f, stat)] = test_x['{}_target_{}'.format(f, stat)].fillna(stats_default_dict[stat])\n",
    "            train_df.loc[val_idx, '{}_target_{}'.format(f, stat)] = val_x['{}_target_{}'.format(f, stat)].values\n",
    "            test_df['{}_target_{}'.format(f, stat)] += test_x['{}_target_{}'.format(f, stat)].values / skf.n_splits\n",
    "\n",
    "\n",
    "cols = cate_fea + num_fea + enc_cols\n",
    "sub = test_df[['SaleID']].copy()\n",
    "test_df = test_df[cols]\n",
    "labels = train_df['price'].values\n",
    "train_df = train_df[cols]\n",
    "print(train_df.shape)\n",
    "train_df.head()"
   ]
  },
  {
   "cell_type": "code",
   "execution_count": null,
   "metadata": {
    "collapsed": true
   },
   "outputs": [],
   "source": [
    "# 查看缺失值信息\n",
    "train_df.info()\n",
    "# test_df.info()\n",
    "# 显碍眼不看那么多"
   ]
  },
  {
   "cell_type": "code",
   "execution_count": null,
   "metadata": {
    "collapsed": true
   },
   "outputs": [],
   "source": [
    "# 由于特征构造不允许空值，故这里对其进行填充\n",
    "# 方法这里采用中位数、也可以用模型、插值法、KNN等，有时间再慢慢试\n",
    "train_df.fillna(train.median(),inplace=True)\n",
    "test_df.fillna(test.median(), inplace=True)"
   ]
  },
  {
   "cell_type": "markdown",
   "metadata": {},
   "source": [
    "## 数值特征处理"
   ]
  },
  {
   "cell_type": "code",
   "execution_count": null,
   "metadata": {
    "collapsed": true
   },
   "outputs": [],
   "source": [
    "# 把数值特征取出来\n",
    "num_fea = ['kilometer','power','used_time'] + ['v_{}'.format(i+8) for i in range(7)]+ ['v_0','v_2','v_3','v_5','v_6']"
   ]
  },
  {
   "cell_type": "code",
   "execution_count": null,
   "metadata": {
    "collapsed": true
   },
   "outputs": [],
   "source": [
    "# 导入构造多项式的包，这里构造的是二阶\n",
    "from sklearn.preprocessing import PolynomialFeatures\n",
    "# 这里没有选择全部数字特征，根据相关性选择的，有时间可以选择完试试\n",
    "rest_df = train_df[['kilometer','power','used_time','v_0','v_2','v_5','v_6','v_9','v_10','v_11','v_12','v_14']]\n",
    "rest_df1 = test_df[['kilometer','power','used_time','v_0','v_2','v_5','v_6','v_9','v_10','v_11','v_12','v_14']]\n",
    "# 打错了，不想删了\n",
    "col1 = ['kilometer','power','used_time','v_0','v_2','v_5','v_6','v_9','v_10','v_11','v_12','v_14']"
   ]
  },
  {
   "cell_type": "code",
   "execution_count": null,
   "metadata": {
    "collapsed": true
   },
   "outputs": [],
   "source": [
    "# 训练集的\n",
    "poly_transform = PolynomialFeatures(degree=2,interaction_only=False,include_bias=False)\n",
    "poly_features = pd.DataFrame(poly_transform.fit_transform(rest_df), columns=poly_transform.get_feature_names(col1))\n",
    "# for col in poly_features.columns:\n",
    "for col in poly_features.columns:\n",
    "    if col not in col1:\n",
    "        train_df.insert(1,col,poly_features[col])"
   ]
  },
  {
   "cell_type": "code",
   "execution_count": null,
   "metadata": {
    "collapsed": true
   },
   "outputs": [],
   "source": [
    "# 测试集的，也可以合并处理\n",
    "poly_transform = PolynomialFeatures(degree=2,interaction_only=False,include_bias=False)\n",
    "poly_features = pd.DataFrame(poly_transform.fit_transform(rest_df1), columns=poly_transform.get_feature_names(col1))\n",
    "# for col in poly_features.columns:\n",
    "for col in poly_features.columns:\n",
    "    if col not in col1:\n",
    "        test_df.insert(1,col,poly_features[col])"
   ]
  },
  {
   "cell_type": "code",
   "execution_count": null,
   "metadata": {
    "collapsed": true
   },
   "outputs": [],
   "source": [
    "# 查看构造完特征的纬度\n",
    "train_df.columns"
   ]
  },
  {
   "cell_type": "markdown",
   "metadata": {},
   "source": [
    "### 删除类别特征，在进行筛选特征"
   ]
  },
  {
   "cell_type": "code",
   "execution_count": null,
   "metadata": {
    "collapsed": true
   },
   "outputs": [],
   "source": [
    "from sklearn.model_selection import KFold\n",
    "from lightgbm.sklearn import LGBMRegressor\n",
    "from sklearn.metrics import mean_squared_error, mean_absolute_error\n",
    "import time\n",
    "\n",
    "\n",
    "oof = np.zeros(train_df.shape[0])\n",
    "sub['price'] = 0\n",
    "feat_imp_df = pd.DataFrame({'feat': train_df.columns, 'imp': 0})\n",
    "skf = KFold(n_splits=5, shuffle=True, random_state=2020)\n",
    "### 参数可以重新设置一下，天池这里面太慢了所以随便跑跑\n",
    "clf = LGBMRegressor(\n",
    "    learning_rate=0.1,\n",
    "    n_estimators=1000,\n",
    "    num_leaves=31,\n",
    "    subsample=0.8,\n",
    "    colsample_bytree=0.8,\n",
    "    random_state=2020,\n",
    "    metric=None\n",
    ")\n",
    "for i, (trn_idx, val_idx) in enumerate(skf.split(train_df, labels)):\n",
    "    print('--------------------- {} fold ---------------------'.format(i))\n",
    "    t = time.time()\n",
    "    trn_x, trn_y = train_df.iloc[trn_idx].reset_index(drop=True), labels[trn_idx]\n",
    "    val_x, val_y = train_df.iloc[val_idx].reset_index(drop=True), labels[val_idx]\n",
    "    clf.fit(\n",
    "        trn_x, trn_y,\n",
    "        eval_set=[(val_x, val_y)],\n",
    "        categorical_feature=cate_fea,\n",
    "        eval_metric='mae',\n",
    "        early_stopping_rounds=100,\n",
    "        verbose=200\n",
    "    )\n",
    "    feat_imp_df['imp'] += clf.feature_importances_ / skf.n_splits\n",
    "#     feat_imp_df['imp'] += clf.feature_importances_ \n",
    "    oof[val_idx] = clf.predict(val_x)\n",
    "    sub['price'] += clf.predict(test_df) / skf.n_splits\n",
    "    print('val mse:', mean_squared_error(val_y, oof[val_idx]))\n",
    "    print('runtime: {}\\n'.format(time.time() - t))\n",
    "\n",
    "mae = mean_absolute_error(labels, oof)\n",
    "mse = mean_squared_error(labels, oof)\n",
    "print('cv mae:', mae)\n",
    "print('cv mse:', mse)\n",
    "print('sub mean:', sub['price'].mean())\n",
    "# sub.to_csv('sub_{}_{}_{}.csv'.format(mae, mse, sub['price'].mean()), index=False)"
   ]
  },
  {
   "cell_type": "code",
   "execution_count": null,
   "metadata": {
    "collapsed": true
   },
   "outputs": [],
   "source": [
    "sns.distplot(labels, label='train', color='y', hist=False)\n",
    "sns.distplot(oof, label='oof', color='g', hist=False)\n",
    "sns.distplot(sub['price'], label='test', color='r', hist=False)"
   ]
  },
  {
   "cell_type": "code",
   "execution_count": null,
   "metadata": {
    "collapsed": true
   },
   "outputs": [],
   "source": [
    "plt.figure(figsize=(15, 30))\n",
    "feat_imp_df = feat_imp_df.sort_values('imp').reset_index(drop=True)\n",
    "f = sns.barplot(x='imp', y='feat', data=feat_imp_df)"
   ]
  },
  {
   "cell_type": "code",
   "execution_count": null,
   "metadata": {
    "collapsed": true
   },
   "outputs": [],
   "source": [
    "a = feat_imp_df.sort_values('imp',ascending=False)"
   ]
  },
  {
   "cell_type": "code",
   "execution_count": null,
   "metadata": {
    "collapsed": true
   },
   "outputs": [],
   "source": [
    "a['imp'] = a['imp']/(a['imp'].sum())"
   ]
  },
  {
   "cell_type": "code",
   "execution_count": null,
   "metadata": {
    "collapsed": true
   },
   "outputs": [],
   "source": [
    "# 为了画概率图，不知道用那个函数？\n",
    "b = []\n",
    "c = 0\n",
    "for i in range(132):\n",
    "    c = (a['imp'][131 - i] + c)\n",
    "    b.append(c)"
   ]
  },
  {
   "cell_type": "code",
   "execution_count": null,
   "metadata": {
    "collapsed": true
   },
   "outputs": [],
   "source": [
    "plt.figure(figsize=(10,8))\n",
    "plt.plot(range(1,133,1),b,'ro')"
   ]
  },
  {
   "cell_type": "markdown",
   "metadata": {},
   "source": [
    "## 归一化处理，查看是否删除类别特征"
   ]
  },
  {
   "cell_type": "code",
   "execution_count": null,
   "metadata": {
    "collapsed": true
   },
   "outputs": [],
   "source": []
  },
  {
   "cell_type": "markdown",
   "metadata": {},
   "source": [
    "## 模型训练与测试"
   ]
  },
  {
   "cell_type": "code",
   "execution_count": null,
   "metadata": {
    "collapsed": true
   },
   "outputs": [],
   "source": [
    "def Sta_inf(data):\n",
    "    print('_min',np.min(data))\n",
    "    print('_max:',np.max(data))\n",
    "    print('_mean',np.mean(data))\n",
    "    print('_ptp',np.ptp(data))\n",
    "    print('_std',np.std(data))\n",
    "    print('_var',np.var(data))"
   ]
  },
  {
   "cell_type": "code",
   "execution_count": null,
   "metadata": {
    "collapsed": true
   },
   "outputs": [],
   "source": [
    "X_data = train_df\n",
    "Y_data = train['price']\n",
    "X_test = test_df"
   ]
  },
  {
   "cell_type": "markdown",
   "metadata": {},
   "source": [
    "调参，五折交叉验证"
   ]
  },
  {
   "cell_type": "code",
   "execution_count": null,
   "metadata": {
    "collapsed": true
   },
   "outputs": [],
   "source": [
    "import lightgbm as lgb\n",
    "import xgboost as xgb\n",
    "\n",
    "## 参数搜索和评价的\n",
    "from sklearn.model_selection import GridSearchCV,cross_val_score,StratifiedKFold,train_test_split\n",
    "from sklearn.metrics import mean_squared_error, mean_absolute_error\n",
    "## xgb-Model\n",
    "xgr = xgb.XGBRegressor(n_estimators=120, learning_rate=0.1, gamma=0, subsample=0.8,\\\n",
    "        colsample_bytree=0.9, max_depth=7) #,objective ='reg:squarederror'\n",
    "\n",
    "scores_train = []\n",
    "scores = []\n",
    "\n",
    "## 5折交叉验证方式\n",
    "sk=StratifiedKFold(n_splits=5,shuffle=True,random_state=0)\n",
    "for train_ind,val_ind in sk.split(X_data,Y_data):\n",
    "    \n",
    "    train_x=X_data.iloc[train_ind].values\n",
    "    train_y=Y_data.iloc[train_ind]\n",
    "    val_x=X_data.iloc[val_ind].values\n",
    "    val_y=Y_data.iloc[val_ind]\n",
    "    \n",
    "    xgr.fit(train_x,train_y)\n",
    "    pred_train_xgb=xgr.predict(train_x)\n",
    "    pred_xgb=xgr.predict(val_x)\n",
    "    \n",
    "    score_train = mean_absolute_error(train_y,pred_train_xgb)\n",
    "    scores_train.append(score_train)\n",
    "    score = mean_absolute_error(val_y,pred_xgb)\n",
    "    scores.append(score)\n",
    "\n",
    "print('Train mae:',np.mean(score_train))\n",
    "print('Val mae',np.mean(scores))"
   ]
  },
  {
   "cell_type": "code",
   "execution_count": null,
   "metadata": {
    "collapsed": true
   },
   "outputs": [],
   "source": [
    "def build_model_xgb(x_train,y_train):\n",
    "    model = xgb.XGBRegressor(n_estimators=150, learning_rate=0.1, gamma=0, subsample=0.8,\\\n",
    "        colsample_bytree=0.9, max_depth=7) #, objective ='reg:squarederror'\n",
    "    model.fit(x_train, y_train)\n",
    "    return model\n",
    "\n",
    "def build_model_lgb(x_train,y_train):\n",
    "    estimator = lgb.LGBMRegressor(num_leaves=127,n_estimators = 150)\n",
    "    param_grid = {\n",
    "        'learning_rate': [0.01, 0.05, 0.1, 0.2],\n",
    "    }\n",
    "    gbm = GridSearchCV(estimator, param_grid)\n",
    "    gbm.fit(x_train, y_train)\n",
    "    return gbm"
   ]
  },
  {
   "cell_type": "code",
   "execution_count": null,
   "metadata": {
    "collapsed": true
   },
   "outputs": [],
   "source": [
    "## Split data with val\n",
    "x_train,x_val,y_train,y_val = train_test_split(X_data,Y_data,test_size=0.3)"
   ]
  },
  {
   "cell_type": "code",
   "execution_count": null,
   "metadata": {
    "collapsed": true
   },
   "outputs": [],
   "source": [
    "print('Train lgb...')\n",
    "model_lgb = build_model_lgb(x_train,y_train)\n",
    "val_lgb = model_lgb.predict(x_val)\n",
    "MAE_lgb = mean_absolute_error(y_val,val_lgb)\n",
    "print('MAE of val with lgb:',MAE_lgb)\n",
    "\n",
    "print('Predict lgb...')\n",
    "model_lgb_pre = build_model_lgb(X_data,Y_data)\n",
    "subA_lgb = model_lgb_pre.predict(X_test)\n",
    "print('Sta of Predict lgb:')\n",
    "Sta_inf(subA_lgb)"
   ]
  },
  {
   "cell_type": "code",
   "execution_count": null,
   "metadata": {
    "collapsed": true
   },
   "outputs": [],
   "source": [
    "print('Train xgb...')\n",
    "model_xgb = build_model_xgb(x_train,y_train)\n",
    "val_xgb = model_xgb.predict(x_val)\n",
    "MAE_xgb = mean_absolute_error(y_val,val_xgb)\n",
    "print('MAE of val with xgb:',MAE_xgb)\n",
    "\n",
    "print('Predict xgb...')\n",
    "model_xgb_pre = build_model_xgb(X_data,Y_data)\n",
    "subA_xgb = model_xgb_pre.predict(X_test)\n",
    "print('Sta of Predict xgb:')\n",
    "Sta_inf(subA_xgb)"
   ]
  },
  {
   "cell_type": "code",
   "execution_count": null,
   "metadata": {
    "collapsed": true
   },
   "outputs": [],
   "source": [
    "## 这里我们采取了简单的加权融合的方式\n",
    "val_Weighted = (1-MAE_lgb/(MAE_xgb+MAE_lgb))*val_lgb+(1-MAE_xgb/(MAE_xgb+MAE_lgb))*val_xgb\n",
    "val_Weighted[val_Weighted<0]=10 # 由于我们发现预测的最小值有负数，而真实情况下，price为负是不存在的，由此我们进行对应的后修正\n",
    "print('MAE of val with Weighted ensemble:',mean_absolute_error(y_val,val_Weighted))"
   ]
  },
  {
   "cell_type": "code",
   "execution_count": null,
   "metadata": {
    "collapsed": true
   },
   "outputs": [],
   "source": [
    "sub_Weighted = (1-MAE_lgb/(MAE_xgb+MAE_lgb))*subA_lgb+(1-MAE_xgb/(MAE_xgb+MAE_lgb))*subA_xgb\n",
    "\n",
    "## 查看预测值的统计进行\n",
    "plt.hist(Y_data)\n",
    "plt.show()\n",
    "plt.close()"
   ]
  },
  {
   "cell_type": "code",
   "execution_count": null,
   "metadata": {
    "collapsed": true
   },
   "outputs": [],
   "source": [
    "# 查看数据预测结果\n",
    "sub_Weighted"
   ]
  },
  {
   "cell_type": "code",
   "execution_count": null,
   "metadata": {
    "collapsed": true
   },
   "outputs": [],
   "source": [
    "sub = pd.DataFrame()\n",
    "sub['SaleID'] = test.SaleID\n",
    "sub['price'] = sub_Weighted\n",
    "sub.to_csv('sub1.csv',index=False)"
   ]
  },
  {
   "cell_type": "markdown",
   "metadata": {},
   "source": [
    "# 时间关系代码运行结果不展示了"
   ]
  }
 ],
 "metadata": {
  "kernelspec": {
   "display_name": "Python 3",
   "language": "python",
   "name": "python3"
  },
  "language_info": {
   "codemirror_mode": {
    "name": "ipython",
    "version": 3
   },
   "file_extension": ".py",
   "mimetype": "text/x-python",
   "name": "python",
   "nbconvert_exporter": "python",
   "pygments_lexer": "ipython3",
   "version": "3.6.1"
  },
  "toc": {
   "base_numbering": 1,
   "nav_menu": {},
   "number_sections": true,
   "sideBar": true,
   "skip_h1_title": false,
   "title_cell": "Table of Contents",
   "title_sidebar": "Contents",
   "toc_cell": false,
   "toc_position": {},
   "toc_section_display": true,
   "toc_window_display": false
  }
 },
 "nbformat": 4,
 "nbformat_minor": 2
}
